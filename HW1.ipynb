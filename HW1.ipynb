{
 "cells": [
  {
   "cell_type": "code",
   "execution_count": 10,
   "metadata": {
    "scrolled": true
   },
   "outputs": [
    {
     "name": "stdout",
     "output_type": "stream",
     "text": [
      "Please enter a value: 4\n",
      "The value is  4  and type of the value is  <class 'int'>\n",
      "Please enter a value: 5.6\n",
      "The value is  5.6  and type of the value is  <class 'float'>\n",
      "Please enter a value: ecem\n",
      "The value is  ecem  and type of the value is  <class 'str'>\n",
      "Please enter a value: True\n",
      "The value is  True  and type of the value is  <class 'bool'>\n",
      "Please enter a value: 7\n",
      "The value is  7  and type of the value is  <class 'int'>\n"
     ]
    }
   ],
   "source": [
    "x=int(input(\"Please enter a value: \"))\n",
    "print(\"The value is \" , x , \" and type of the value is \" , type(x))\n",
    "\n",
    "x=float(input(\"Please enter a value: \"))\n",
    "print(\"The value is \" , x , \" and type of the value is \" , type(x))\n",
    "\n",
    "x=str(input(\"Please enter a value: \"))\n",
    "print(\"The value is \" , x , \" and type of the value is \" , type(x))\n",
    "\n",
    "x=bool(input(\"Please enter a value: \"))\n",
    "print(\"The value is \" , x , \" and type of the value is \" , type(x))\n",
    "\n",
    "x=int(input(\"Please enter a value: \"))\n",
    "print(\"The value is \" , x , \" and type of the value is \" , type(x))"
   ]
  },
  {
   "cell_type": "code",
   "execution_count": null,
   "metadata": {},
   "outputs": [],
   "source": []
  },
  {
   "cell_type": "code",
   "execution_count": null,
   "metadata": {},
   "outputs": [],
   "source": []
  }
 ],
 "metadata": {
  "kernelspec": {
   "display_name": "Python 3",
   "language": "python",
   "name": "python3"
  },
  "language_info": {
   "codemirror_mode": {
    "name": "ipython",
    "version": 3
   },
   "file_extension": ".py",
   "mimetype": "text/x-python",
   "name": "python",
   "nbconvert_exporter": "python",
   "pygments_lexer": "ipython3",
   "version": "3.8.5"
  }
 },
 "nbformat": 4,
 "nbformat_minor": 4
}
