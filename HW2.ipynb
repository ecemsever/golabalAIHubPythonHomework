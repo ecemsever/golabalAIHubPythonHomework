{
 "cells": [
  {
   "cell_type": "code",
   "execution_count": 3,
   "metadata": {},
   "outputs": [
    {
     "name": "stdout",
     "output_type": "stream",
     "text": [
      "Please enter your name: ecem\n",
      "Please enter your surname: sever\n",
      "Please enter your age: 25\n",
      "Please enter your year of birth: 1995\n"
     ]
    }
   ],
   "source": [
    "name= str(input('Please enter your name: '))\n",
    "surname= str(input('Please enter your surname: '))\n",
    "age= int(input('Please enter your age: '))\n",
    "DateOfBirth = int(input('Please enter your year of birth: '))\n",
    "\n",
    "thelist= [name, surname, age, DateOfBirth]"
   ]
  },
  {
   "cell_type": "code",
   "execution_count": 7,
   "metadata": {},
   "outputs": [
    {
     "name": "stdout",
     "output_type": "stream",
     "text": [
      "ecem\n",
      "sever\n",
      "25\n",
      "1995\n",
      "You can go out to the street\n"
     ]
    }
   ],
   "source": [
    "for i in thelist:\n",
    "    print(i)\n",
    "\n",
    "if thelist[3] < 18:\n",
    "    print(\"You can't go out because it is dangerous\")\n",
    "else:\n",
    "    print(\"You can go out to the street\")"
   ]
  }
 ],
 "metadata": {
  "kernelspec": {
   "display_name": "Python 3",
   "language": "python",
   "name": "python3"
  },
  "language_info": {
   "codemirror_mode": {
    "name": "ipython",
    "version": 3
   },
   "file_extension": ".py",
   "mimetype": "text/x-python",
   "name": "python",
   "nbconvert_exporter": "python",
   "pygments_lexer": "ipython3",
   "version": "3.8.5"
  }
 },
 "nbformat": 4,
 "nbformat_minor": 4
}
