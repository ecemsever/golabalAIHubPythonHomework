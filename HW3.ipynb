{
 "cells": [
  {
   "cell_type": "code",
   "execution_count": 4,
   "metadata": {},
   "outputs": [
    {
     "name": "stdout",
     "output_type": "stream",
     "text": [
      "Please enter your name: Ecem\n",
      "Welcome  Ecem\n",
      "Please enter your prediction: chair\n",
      "You are wrong, please enter another prediction\n",
      "Please enter your prediction: laptop\n",
      "You are wrong, please enter another prediction\n",
      "Please enter your prediction: table\n",
      "You win!\n"
     ]
    }
   ],
   "source": [
    "player=input('Please enter your name: ')\n",
    "word='table'\n",
    "\n",
    "print('Welcome ', player)\n",
    "\n",
    "while True:\n",
    "    prediction=input('Please enter your prediction: ')\n",
    "    if prediction==word:\n",
    "        print('You win!')\n",
    "        break\n",
    "    print('You are wrong, please enter another prediction')"
   ]
  },
  {
   "cell_type": "code",
   "execution_count": null,
   "metadata": {},
   "outputs": [],
   "source": []
  }
 ],
 "metadata": {
  "kernelspec": {
   "display_name": "Python 3",
   "language": "python",
   "name": "python3"
  },
  "language_info": {
   "codemirror_mode": {
    "name": "ipython",
    "version": 3
   },
   "file_extension": ".py",
   "mimetype": "text/x-python",
   "name": "python",
   "nbconvert_exporter": "python",
   "pygments_lexer": "ipython3",
   "version": "3.8.5"
  }
 },
 "nbformat": 4,
 "nbformat_minor": 4
}
